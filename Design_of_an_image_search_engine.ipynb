{
  "nbformat": 4,
  "nbformat_minor": 0,
  "metadata": {
    "colab": {
      "name": "Design_of_an_image_search_engine.ipynb",
      "provenance": [],
      "collapsed_sections": [],
      "toc_visible": true,
      "machine_shape": "hm"
    },
    "kernelspec": {
      "name": "python3",
      "display_name": "Python 3"
    },
    "accelerator": "GPU"
  },
  "cells": [
    {
      "cell_type": "code",
      "metadata": {
        "id": "LOt2JbmNToM5",
        "colab_type": "code",
        "colab": {}
      },
      "source": [
        ""
      ],
      "execution_count": 0,
      "outputs": []
    },
    {
      "cell_type": "code",
      "metadata": {
        "id": "6IPGZD2K97BQ",
        "colab_type": "code",
        "outputId": "dddf64a6-ab50-4280-ab47-37829a2c7022",
        "colab": {
          "base_uri": "https://localhost:8080/",
          "height": 132
        }
      },
      "source": [
        "from google.colab import drive\n",
        "drive.mount('/content/drive')"
      ],
      "execution_count": 0,
      "outputs": [
        {
          "output_type": "stream",
          "text": [
            "Go to this URL in a browser: https://accounts.google.com/o/oauth2/auth?client_id=947318989803-6bn6qk8qdgf4n4g3pfee6491hc0brc4i.apps.googleusercontent.com&redirect_uri=urn%3aietf%3awg%3aoauth%3a2.0%3aoob&response_type=code&scope=email%20https%3a%2f%2fwww.googleapis.com%2fauth%2fdocs.test%20https%3a%2f%2fwww.googleapis.com%2fauth%2fdrive%20https%3a%2f%2fwww.googleapis.com%2fauth%2fdrive.photos.readonly%20https%3a%2f%2fwww.googleapis.com%2fauth%2fpeopleapi.readonly\n",
            "\n",
            "Enter your authorization code:\n",
            "··········\n",
            "Mounted at /content/drive\n"
          ],
          "name": "stdout"
        }
      ]
    },
    {
      "cell_type": "code",
      "metadata": {
        "id": "cvHxeK2lB1LH",
        "colab_type": "code",
        "outputId": "371b90ef-8a37-498d-c57f-1d52bf3e123f",
        "colab": {
          "base_uri": "https://localhost:8080/",
          "height": 360
        }
      },
      "source": [
        "pip install opencv-python==3.3.0.10 opencv_contrib-python==3.3.0.10"
      ],
      "execution_count": 0,
      "outputs": [
        {
          "output_type": "stream",
          "text": [
            "Collecting opencv-python==3.3.0.10\n",
            "\u001b[?25l  Downloading https://files.pythonhosted.org/packages/47/da/d7cc32630062e75cac5df51fcb2fef0786c7037aa76eb500ee5ec6fc881a/opencv_python-3.3.0.10-cp36-cp36m-manylinux1_x86_64.whl (15.4MB)\n",
            "\u001b[K     |████████████████████████████████| 15.5MB 208kB/s \n",
            "\u001b[?25hCollecting opencv_contrib-python==3.3.0.10\n",
            "\u001b[?25l  Downloading https://files.pythonhosted.org/packages/6a/8c/2ceec0162a5978592e9ca9a47976d61de3c28c55d2710045ded9c2333b78/opencv_contrib_python-3.3.0.10-cp36-cp36m-manylinux1_x86_64.whl (21.4MB)\n",
            "\u001b[K     |████████████████████████████████| 21.4MB 158kB/s \n",
            "\u001b[?25hRequirement already satisfied: numpy>=1.11.3 in /usr/local/lib/python3.6/dist-packages (from opencv-python==3.3.0.10) (1.17.5)\n",
            "\u001b[31mERROR: dopamine-rl 1.0.5 has requirement opencv-python>=3.4.1.15, but you'll have opencv-python 3.3.0.10 which is incompatible.\u001b[0m\n",
            "\u001b[31mERROR: albumentations 0.1.12 has requirement imgaug<0.2.7,>=0.2.5, but you'll have imgaug 0.2.9 which is incompatible.\u001b[0m\n",
            "Installing collected packages: opencv-python, opencv-contrib-python\n",
            "  Found existing installation: opencv-python 4.1.2.30\n",
            "    Uninstalling opencv-python-4.1.2.30:\n",
            "      Successfully uninstalled opencv-python-4.1.2.30\n",
            "  Found existing installation: opencv-contrib-python 4.1.2.30\n",
            "    Uninstalling opencv-contrib-python-4.1.2.30:\n",
            "      Successfully uninstalled opencv-contrib-python-4.1.2.30\n",
            "Successfully installed opencv-contrib-python-3.3.0.10 opencv-python-3.3.0.10\n"
          ],
          "name": "stdout"
        }
      ]
    },
    {
      "cell_type": "code",
      "metadata": {
        "id": "6GRNr6nLpDiS",
        "colab_type": "code",
        "colab": {}
      },
      "source": [
        "import cv2\n",
        "from sklearn.cluster import KMeans\n",
        "import numpy as np\n",
        "import glob\n",
        "import os\n",
        "\n",
        "# defining feature extractor that we want to use\n",
        "extractor = cv2.xfeatures2d.SIFT_create()\n",
        "\n",
        "def extract_features(image, extractor):\n",
        "  keypoints, descriptors = extractor.detectAndCompute(image, None)\n",
        "  return keypoints, descriptors\n",
        "\n",
        "\n",
        "#Nous prenons le repertoire comme paramètre et chargeons les images\n",
        "def load_images(folder_path):\n",
        "  images, images_names = [], []\n",
        "  for one_image in os.listdir(folder_path):\n",
        "    image = cv2.imread(folder_path+one_image)\n",
        "    images.append(image)          \n",
        "    images_names.append(one_image)\n",
        "    #return image read et leurs noms\n",
        "  return images, images_names\n",
        "\n",
        "\n",
        "#Extraction de tous les descripteurs dans la base d'images\n",
        "#Avec les images lu et leur noms, nous procédons à l'extraction des descripteurs\n",
        "def images_features(images, images_names):\n",
        "  descriptors_list = []\n",
        "  images_names_update = []\n",
        "  idx = -1\n",
        "  for image in images:\n",
        "    # Convert them to grayscale\n",
        "    idx+=1\n",
        "    image = cv2.cvtColor(image,cv2.COLOR_BGR2GRAY)        \n",
        "    keypoint, descriptors = extract_features(image, extractor)\n",
        "    #Verifié que le descripteur n'est pas nul avant de l'ajouter\n",
        "    if (descriptors is not None):\n",
        "      descriptors_list.append(descriptors)\n",
        "      #Ici on s'assure que la liste des noms d'image est mise à jour\n",
        "      #au cas ou l'extration n'a pas marché pour une image\n",
        "      images_names_update.append(images_names[idx])\n",
        "\n",
        "  #On retourne les descripturs et les noms d'images correspondant\n",
        "  return descriptors_list, images_names_update\n",
        "\n",
        "\n",
        "#converti une liste des descripteur d'images en un array numpy\n",
        "#L'objectif est de pouvoir passer ce array au model de clustering\n",
        "def list_descriptors_to_array_descriptor(descriptors_list):\n",
        "  size=0\n",
        "  for descriptors in descriptors_list:\n",
        "    size+=descriptors.shape[0]\n",
        "\n",
        "  descriptors_all = np.zeros((size, 128))\n",
        "  i=0\n",
        "  for descriptors in descriptors_list:\n",
        "    for one_descriptor in descriptors:\n",
        "      descriptors_all[i]=one_descriptor\n",
        "      i+=1\n",
        "\n",
        "  #On retourne ce array\n",
        "  return descriptors_all\n",
        "\n",
        "\n",
        "#Génération du modele kmeans de tous les descripteurs des images dans la base\n",
        "#Ces images sont représenté par leurs descripteurs qu'on donne en parametre\n",
        "def train_kmeans(all_images_descriptors, num_cluster):\n",
        "  kmeans = KMeans(n_clusters = num_cluster)\n",
        "  kmeans.fit(all_images_descriptors)\n",
        "  return kmeans\n",
        "\n",
        "\n",
        "\n",
        "#function de construction d'histogramme d'une image \n",
        "#(descriptors est la liste des descripteurs de l'image)\n",
        "#return l'histogramme de l'image\n",
        "def build_histogram(clustering_model, descriptors):\n",
        "  hist = np.zeros(clustering_model.cluster_centers_.shape[0])\n",
        "  n_desc = np.size(descriptors)\n",
        "  for desc in descriptors:\n",
        "    #Pour chaque descripteur, on prédit à quel sac de mot visuel il appartient\n",
        "    idx = clustering_model.predict([desc])\n",
        "    #On ajoute à l'index du sac de mot 1/nombre de descripteur car il faut normalisé l'histogramme\n",
        "    hist[idx] += 1/n_desc\n",
        "  \n",
        "  #On retourne l'histogram de l'image\n",
        "  return hist\n",
        "\n",
        "\n",
        "#Calcul de l'histogramme de toutes les images\n",
        "#(imgs_descriptors_list est la liste des descripteurs de toutes les images dans la base)\n",
        "def build_all_images_histogram(clustering_model, imgs_descriptors_list):\n",
        "  histograms=[]\n",
        "  for descriptors in imgs_descriptors_list:\n",
        "    hist = build_histogram(clustering_model, descriptors)\n",
        "    histograms.append(hist)\n",
        "\n",
        "  #histograms = np.asarray(histograms)\n",
        "  #retourne les array des histogrammes\n",
        "  return histograms\n",
        "\n"
      ],
      "execution_count": 0,
      "outputs": []
    },
    {
      "cell_type": "code",
      "metadata": {
        "id": "Stt9yIaHisVN",
        "colab_type": "code",
        "colab": {}
      },
      "source": [
        "img_path = 'drive/My Drive/Colab Notebooks/Datasets/image_orig/'\n",
        "\n",
        "def Indexation(num_cluster=75):\n",
        "  #charger les images\n",
        "  num_cluster = num_cluster\n",
        "  images, images_names = load_images(img_path)\n",
        "  #print(images_names)\n",
        "  print(\"End load images\")\n",
        "  #recupération des descripteurs dans les images\n",
        "  descriptors_list, images_names_descriptors  = images_features(images, images_names)\n",
        "  print(\"End extract descriptors\")\n",
        "  #conversion en un numpy array\n",
        "  descriptors_np = list_descriptors_to_array_descriptor(descriptors_list)\n",
        "  print(\"End conversion\")\n",
        "  #Génération du modele kmeans\n",
        "  clustering_model = train_kmeans(descriptors_np, num_cluster)\n",
        "  print(\"End clustering\")\n",
        "  #Construction de l'histograme\n",
        "  images_histograms = build_all_images_histogram(clustering_model, descriptors_list)\n",
        "  print(\"End build histogram\")\n",
        "\n",
        "  #On sauvegarde le modele, les histogrames et les noms des images pour une utilisation ultérieur\n",
        "  save_path = 'drive/My Drive/Colab Notebooks/Datasets/'\n",
        "\n",
        "  import pickle\n",
        "  with open(save_path+'images_histograms4.hist', 'wb') as handle:\n",
        "      pickle.dump(images_histograms, handle)\n",
        "\n",
        "  with open(save_path+'clustering_model4.md', 'wb') as handle:\n",
        "      pickle.dump(clustering_model, handle)\n",
        "\n",
        "  with open(save_path+'images_names4.names', 'wb') as handle:\n",
        "      pickle.dump(images_names_descriptors, handle)\n",
        "\n",
        "  print(\"End funct indexation\")\n",
        "\n",
        "  return images_histograms, clustering_model, images_names_descriptors\n"
      ],
      "execution_count": 0,
      "outputs": []
    },
    {
      "cell_type": "code",
      "metadata": {
        "id": "XFl8DlgGjaAl",
        "colab_type": "code",
        "outputId": "cad994d6-0bfb-40cb-a820-22b6b3632980",
        "colab": {
          "base_uri": "https://localhost:8080/",
          "height": 131
        }
      },
      "source": [
        "images_histograms, clustering_model, images_names_descriptors = Indexation()"
      ],
      "execution_count": 0,
      "outputs": [
        {
          "output_type": "stream",
          "text": [
            "End load images\n",
            "End extract descriptors\n",
            "End conversion\n",
            "End clustering\n",
            "End build histogram\n",
            "End funct indexation\n"
          ],
          "name": "stdout"
        }
      ]
    },
    {
      "cell_type": "code",
      "metadata": {
        "id": "8RUNVrta-3RI",
        "colab_type": "code",
        "colab": {}
      },
      "source": [
        ""
      ],
      "execution_count": 0,
      "outputs": []
    },
    {
      "cell_type": "code",
      "metadata": {
        "id": "UAsbv8TGi5_y",
        "colab_type": "code",
        "colab": {}
      },
      "source": [
        "folder_path = 'drive/My Drive/Colab Notebooks/Datasets/image_orig/'\n",
        "\n",
        "from sklearn.neighbors import NearestNeighbors\n",
        "\n",
        "#Grace au modele et histograme que nous avons contruit,nous pouvons rechercher \n",
        "#les images les plus proches en calculant l'histograme de la nouvelle image puis\n",
        "#recherchons les plus proches histograms\n",
        "def recherche(image_path, N=10, distance='minkowski'):\n",
        "  #Lecture et extraction des descripteurs de l'image\n",
        "  new_image = cv2.imread(image_path)\n",
        "  new_image = cv2.cvtColor(new_image,cv2.COLOR_BGR2GRAY)        \n",
        "  keypoint, descriptor = extract_features(new_image, extractor)\n",
        "  #Construction de l'histogram de la nouvelle image\n",
        "  img_hist = build_histogram(clustering_model, descriptor)\n",
        "  #Entrainement des anciens histogram sur un model de knn\n",
        "  neighbor = NearestNeighbors(n_neighbors = N, metric=distance)\n",
        "  neighbor.fit(images_histograms)\n",
        "  #Recherche des plus proches histogram à la nouvelle image\n",
        "  dist, results = neighbor.kneighbors([img_hist])\n",
        "  #Transformation en un vecteur\n",
        "  results = np.squeeze(np.asarray(results))\n",
        "  #return les noms des image mapper aux références du resulat de knn\n",
        "  return list(map(lambda x: images_names_descriptors[int(x)], results))\n",
        "\n",
        "\n",
        "#Cette fonction prend en parametre deux noms d'image et vérifi \n",
        "#s'il sont du meme concept ou pas\n",
        "def isInSameConcept(name_image1, name_image2):\n",
        "  return ((abs(int(name_image1[:-4]) - (int(name_image2[:-4])))) < 100)\n",
        "\n",
        "\n",
        "#Calcul de la précision d'une image donné en parametre\n",
        "def precision_image(image_path):\n",
        "  #recherche des images similaire\n",
        "  nearest_images = recherche(image_path, N=10, distance='minkowski')\n",
        "  name_ref_image = image_path.split('/')[-1]\n",
        "  nb_img_same_concept = 0\n",
        "  #Pour chaque image dans les image similaire, on compare le concept de l'image de \n",
        "  #reférence au concept de l'image similaire s'ils sont identique, on augmente la precision\n",
        "  for one_image in nearest_images:\n",
        "    if(isInSameConcept(name_ref_image, one_image)):\n",
        "      nb_img_same_concept +=1\n",
        "\n",
        "  #On retourne la précion\n",
        "  return (nb_img_same_concept/len(nearest_images))\n",
        "\n",
        "\n",
        "#fonction de recherche d'un concept à partir du numéro d'image\n",
        "def image_concept(numero_image):\n",
        "  if(numero_image < 100):\n",
        "    return 0\n",
        "  elif (numero_image >= 100 and numero_image < 200 ):\n",
        "    return 1\n",
        "  elif (numero_image >= 200 and numero_image < 300 ):\n",
        "    return 2\n",
        "  elif (numero_image >= 300 and numero_image < 400 ):\n",
        "    return 3\n",
        "  elif (numero_image >= 400 and numero_image < 500 ):\n",
        "    return 4\n",
        "  elif (numero_image >= 500 and numero_image < 600 ):\n",
        "    return 5\n",
        "  elif (numero_image >= 600 and numero_image < 700 ):\n",
        "    return 6\n",
        "  elif (numero_image >= 700 and numero_image < 800 ):\n",
        "    return 7\n",
        "  elif (numero_image >= 800 and numero_image < 900 ):\n",
        "    return 8\n",
        "  else:\n",
        "    return 9\n",
        "\n",
        "\n",
        "#Fonction de calcul de la précision du system\n",
        "#return precision system\n",
        "def AnalyseResultats():\n",
        "  precisions = []\n",
        "  for one_image in os.listdir(folder_path):\n",
        "    #Calculer la précision pour chaque image\n",
        "    precision = precision_image(folder_path+one_image)\n",
        "    precisions.append(precision)\n",
        "  #Faire la moyenne des precision\n",
        "  system_precision = np.mean(precisions)\n",
        "\n",
        "  return system_precision\n"
      ],
      "execution_count": 0,
      "outputs": []
    },
    {
      "cell_type": "code",
      "metadata": {
        "id": "BOOKeDFiJNWH",
        "colab_type": "code",
        "outputId": "a4cd6a55-188c-439c-ed8b-4d6c8f9ea9f3",
        "colab": {
          "base_uri": "https://localhost:8080/",
          "height": 967
        }
      },
      "source": [
        "#variation du nombre de clusters\n",
        "num_clusters = [50, 75, 100, 200, 300, 400, 500]\n",
        "list_precisions_system = []\n",
        "best_num_cluster = 0\n",
        "best_precision_system = 0\n",
        "for num_cluster in num_clusters:\n",
        "  list_precisions = []\n",
        "  #Pour chaque nombre de cluster, faire l'indexation\n",
        "  images_histograms, clustering_model, images_names_descriptors = Indexation(num_cluster)\n",
        "  for k in range(10):\n",
        "    concept_precision = precision_by_concept(k)\n",
        "    list_precisions.append(concept_precision)\n",
        "  \n",
        "  list_precisions_system.append(np.mean(list_precisions))\n",
        "  #Si la nouvelle précision est meilleure, on la garde.\n",
        "  if(list_precisions_system[-1] > best_precision_system):\n",
        "    best_num_cluster = num_cluster\n",
        "    best_precision_system = list_precisions_system[-1]\n",
        "\n",
        "  print('Précision systeme pour '+(str(num_cluster))+' clusters = %.5f ' % (list_precisions_system[-1]))\n",
        "\n",
        "print('Le meilleure nombre de clusters est '+(str(best_num_cluster))+' avec une précision systeme de  %.5f ' % (best_precision_system))\n"
      ],
      "execution_count": 0,
      "outputs": [
        {
          "output_type": "stream",
          "text": [
            "End load images\n",
            "End extract descriptors\n",
            "End conversion\n",
            "End clustering\n",
            "End build histogram\n",
            "End funct indexation\n",
            "Précision systeme pour 50 clusters = 0.55890 \n",
            "End load images\n",
            "End extract descriptors\n",
            "End conversion\n",
            "End clustering\n",
            "End build histogram\n",
            "End funct indexation\n",
            "Précision systeme pour 75 clusters = 0.56520 \n",
            "End load images\n",
            "End extract descriptors\n",
            "End conversion\n",
            "End clustering\n",
            "End build histogram\n",
            "End funct indexation\n",
            "Précision systeme pour 100 clusters = 0.56130 \n",
            "End load images\n",
            "End extract descriptors\n",
            "End conversion\n",
            "End clustering\n",
            "End build histogram\n",
            "End funct indexation\n",
            "Précision systeme pour 200 clusters = 0.54010 \n",
            "End load images\n",
            "End extract descriptors\n",
            "End conversion\n",
            "End clustering\n",
            "End build histogram\n",
            "End funct indexation\n",
            "Précision systeme pour 300 clusters = 0.52930 \n",
            "End load images\n",
            "End extract descriptors\n",
            "End conversion\n",
            "End clustering\n",
            "End build histogram\n",
            "End funct indexation\n",
            "Précision systeme pour 400 clusters = 0.50400 \n",
            "End load images\n",
            "End extract descriptors\n",
            "End conversion\n",
            "End clustering\n",
            "End build histogram\n",
            "End funct indexation\n",
            "Précision systeme pour 500 clusters = 0.49460 \n",
            "Le meilleure nombre de clusters est 75 avec une précision systeme de  0.56520 \n"
          ],
          "name": "stdout"
        }
      ]
    },
    {
      "cell_type": "code",
      "metadata": {
        "id": "vVdn5crwHyRE",
        "colab_type": "code",
        "outputId": "85dac2a6-06a4-4e0b-b5dd-0f4bd3993998",
        "colab": {
          "base_uri": "https://localhost:8080/",
          "height": 405
        }
      },
      "source": [
        "import matplotlib.pyplot as plt \n",
        "\n",
        "plt.figure(figsize=(10,6))# taille de la figure\n",
        "# plotting the points  \n",
        "plt.plot(num_clusters, list_precisions_system, color='red', linestyle='dashed', linewidth = 3, \n",
        "         marker='o', markerfacecolor='blue', markersize=12) \n",
        "# setting x and y axis range \n",
        "plt.ylim(0.48,0.57) \n",
        "plt.xlim(0,550) \n",
        "plt.xlabel('Nombre de clusters') \n",
        "plt.ylabel('Précision système') \n",
        "plt.title('Evolution de la précision système en fonction du nombre de cluster.')\n",
        "plt.show() \n"
      ],
      "execution_count": 0,
      "outputs": [
        {
          "output_type": "display_data",
          "data": {
            "image/png": "[encoded data removed]",
            "text/plain": [
              "<Figure size 720x432 with 1 Axes>"
            ]
          },
          "metadata": {
            "tags": []
          }
        }
      ]
    },
    {
      "cell_type": "code",
      "metadata": {
        "id": "zG3Du8Yo0D-g",
        "colab_type": "code",
        "outputId": "ba22ad47-1de8-4884-d1fc-4cb0ce39d2d1",
        "colab": {
          "base_uri": "https://localhost:8080/",
          "height": 36
        }
      },
      "source": [
        "sys_precision = AnalyseResultats()\n",
        "print('Analase des résulats donne une précision systeme = %.5f ' % (sys_precision))"
      ],
      "execution_count": 0,
      "outputs": [
        {
          "output_type": "stream",
          "text": [
            "Analase des résulats donne une précision systeme = 0.56520 \n"
          ],
          "name": "stdout"
        }
      ]
    },
    {
      "cell_type": "code",
      "metadata": {
        "id": "3kvsDT4ZlkGG",
        "colab_type": "code",
        "colab": {}
      },
      "source": [
        "from sklearn.metrics import confusion_matrix\n",
        "\n",
        "\n",
        "def search_image_by_concept(concept):\n",
        "  images_path_list = []\n",
        "  max_img = (concept+1)*100\n",
        "  for i in range(max_img-100, max_img):\n",
        "    images_path_list.append(str(i)+'.jpg')\n",
        "\n",
        "  return images_path_list\n",
        "\n",
        "#Prends un concept et renvoi la précision de cette derniere\n",
        "def precision_by_concept(concept):\n",
        "  precisions = []\n",
        "  images_path_list = search_image_by_concept(concept)\n",
        "  for one_image in images_path_list:\n",
        "    precision = precision_image(folder_path+one_image)\n",
        "    precisions.append(precision)\n",
        "    \n",
        "  concept_precision = np.mean(precisions)\n",
        "\n",
        "  return concept_precision\n",
        "\n",
        "\n",
        "#Calcul la matrice de confusion du système\n",
        "def confusion_matrice_by_concept():\n",
        "  precisions = []\n",
        "  imgs_true = []\n",
        "  imgs_pred = []\n",
        "  for one_image in os.listdir(folder_path):\n",
        "    concept_im1 = image_concept(int(one_image[:-4]))\n",
        "    #recherche des image similaire\n",
        "    nearest_images = recherche(folder_path+one_image, N=10, distance='minkowski')\n",
        "    for one_near_image in nearest_images:\n",
        "      #prendre le concept auquel appartient l'image 1 et l'image2\n",
        "      concept_im2 = image_concept(int(one_near_image[:-4]))\n",
        "      imgs_true.append(concept_im1)\n",
        "      imgs_pred.append(concept_im2)\n",
        "  \n",
        "  #Génération de la matrice de cofusion grace aux images réélle et au prédictions\n",
        "  conf_matrix = confusion_matrix(imgs_true, imgs_pred)\n",
        "  return conf_matrix\n"
      ],
      "execution_count": 0,
      "outputs": []
    },
    {
      "cell_type": "code",
      "metadata": {
        "id": "fgMMpCYQxPy7",
        "colab_type": "code",
        "outputId": "e1241190-eb4f-4ec2-a6fb-32b09e1424c3",
        "colab": {
          "base_uri": "https://localhost:8080/",
          "height": 226
        }
      },
      "source": [
        "#Calcul de la précision par concept\n",
        "list_precisions = []\n",
        "for k in range(10):\n",
        "  concept_precision = precision_by_concept(k)\n",
        "  list_precisions.append(concept_precision)\n",
        "\n",
        "for k in range(10):\n",
        "  print('Concept: '+(str(k))+':  a une precision de: %.5f ' % (list_precisions[k]))\n",
        "\n",
        "print('Précision systeme = %.5f ' % (np.mean(list_precisions)))"
      ],
      "execution_count": 0,
      "outputs": [
        {
          "output_type": "stream",
          "text": [
            "Concept: 0:  a une precision de: 0.53800 \n",
            "Concept: 1:  a une precision de: 0.32600 \n",
            "Concept: 2:  a une precision de: 0.46700 \n",
            "Concept: 3:  a une precision de: 0.81600 \n",
            "Concept: 4:  a une precision de: 0.88300 \n",
            "Concept: 5:  a une precision de: 0.61600 \n",
            "Concept: 6:  a une precision de: 0.47400 \n",
            "Concept: 7:  a une precision de: 0.70000 \n",
            "Concept: 8:  a une precision de: 0.40200 \n",
            "Concept: 9:  a une precision de: 0.43000 \n",
            "Précision systeme = 0.56520 \n"
          ],
          "name": "stdout"
        }
      ]
    },
    {
      "cell_type": "code",
      "metadata": {
        "id": "FWA2prrrx8bH",
        "colab_type": "code",
        "outputId": "1d29ed18-8478-4438-b556-47bd5c501b35",
        "colab": {
          "base_uri": "https://localhost:8080/",
          "height": 207
        }
      },
      "source": [
        "conf_mat = confusion_matrice_by_concept()\n",
        "conf_mat"
      ],
      "execution_count": 0,
      "outputs": [
        {
          "output_type": "execute_result",
          "data": {
            "text/plain": [
              "array([[527,  36,  74,  24,   1,  64,   5,  25,  59, 185],\n",
              "       [ 98, 218, 127,  29,  15, 204,  15,  89,  91, 114],\n",
              "       [105,  64, 402,  49,  12, 150,  10,  25,  60, 123],\n",
              "       [ 58,  10,  72, 774,   1,   6,   0,  22,  15,  42],\n",
              "       [  9,  31,  23,   3, 839,  73,   1,   2,   9,  10],\n",
              "       [ 56,  54,  58,   3,   3, 615,   2,  91,  34,  84],\n",
              "       [145,  42,  44,  26,   8, 112, 417,   4,  88, 114],\n",
              "       [ 66,  21,  33,  38,   0,  92,   1, 688,  45,  16],\n",
              "       [183,  72,  81,  20,   2,  96,  27,  59, 298, 162],\n",
              "       [209,  41,  86,  30,   1, 144,   1,  21,  85, 382]])"
            ]
          },
          "metadata": {
            "tags": []
          },
          "execution_count": 11
        }
      ]
    },
    {
      "cell_type": "code",
      "metadata": {
        "id": "zqC36kY-AFgR",
        "colab_type": "code",
        "outputId": "c3c93b24-2c9c-47ec-f023-904d6644222e",
        "colab": {
          "base_uri": "https://localhost:8080/",
          "height": 703
        }
      },
      "source": [
        "import seaborn as sn\n",
        "import pandas as pd\n",
        "import matplotlib.pyplot as plt\n",
        "from sklearn.metrics import confusion_matrix\n",
        "\n",
        "df_conf_matrix = pd.DataFrame(conf_mat, range(10), range(10))\n",
        "plt.figure(figsize=(12,12))# taille de la figure\n",
        "sn.set(font_scale=0.9) # for label size\n",
        "sn.heatmap(df_conf_matrix, annot=True) # font size\n",
        "\n",
        "plt.show()"
      ],
      "execution_count": 0,
      "outputs": [
        {
          "output_type": "display_data",
          "data": {
            "image/png": "[encoded data removed]",
            "text/plain": [
              "<Figure size 864x864 with 2 Axes>"
            ]
          },
          "metadata": {
            "tags": []
          }
        }
      ]
    },
    {
      "cell_type": "code",
      "metadata": {
        "id": "kvuF_xQsCMnh",
        "colab_type": "code",
        "colab": {}
      },
      "source": [
        ""
      ],
      "execution_count": 0,
      "outputs": []
    },
    {
      "cell_type": "code",
      "metadata": {
        "id": "IC0shiQBx75y",
        "colab_type": "code",
        "colab": {}
      },
      "source": [
        ""
      ],
      "execution_count": 0,
      "outputs": []
    },
    {
      "cell_type": "markdown",
      "metadata": {
        "id": "JTOHx-Xrwzrr",
        "colab_type": "text"
      },
      "source": [
        "## Deuxième partie"
      ]
    },
    {
      "cell_type": "code",
      "metadata": {
        "id": "y-cygARjO7pD",
        "colab_type": "code",
        "colab": {}
      },
      "source": [
        ""
      ],
      "execution_count": 0,
      "outputs": []
    },
    {
      "cell_type": "code",
      "metadata": {
        "id": "Sdzk7n_zNywg",
        "colab_type": "code",
        "outputId": "0fc227e5-0a62-4a46-bc78-d20b2e1ea533",
        "colab": {
          "base_uri": "https://localhost:8080/",
          "height": 56
        }
      },
      "source": [
        "from google.colab import drive\n",
        "drive.mount('/content/drive')"
      ],
      "execution_count": 0,
      "outputs": [
        {
          "output_type": "stream",
          "text": [
            "Drive already mounted at /content/drive; to attempt to forcibly remount, call drive.mount(\"/content/drive\", force_remount=True).\n"
          ],
          "name": "stdout"
        }
      ]
    },
    {
      "cell_type": "code",
      "metadata": {
        "id": "Ekn3ICAkRCCk",
        "colab_type": "code",
        "colab": {}
      },
      "source": [
        "#Chargement du model de cluster, les hitogrames d'image et les noms d'images dumpé\n",
        "save_path = 'drive/My Drive/Colab Notebooks/Datasets/'\n",
        "\n",
        "import pickle\n",
        "\n",
        "with open(save_path+'images_histograms4.hist', 'rb') as handle:\n",
        "    images_histograms = pickle.load(handle)\n",
        "\n",
        "with open(save_path+'clustering_model4.md', 'rb') as handle:\n",
        "    clustering_model = pickle.load(handle)\n",
        "\n",
        "with open(save_path+'images_names4.names', 'rb') as handle:\n",
        "    images_names_descriptors = pickle.load(handle)"
      ],
      "execution_count": 0,
      "outputs": []
    },
    {
      "cell_type": "code",
      "metadata": {
        "id": "ATsuKlUY0ogp",
        "colab_type": "code",
        "colab": {}
      },
      "source": [
        "all_images_names = images_names_descriptors\n",
        "\n",
        "# fonction de construction d'un dictionaire dont les clés sont les noms des images \n",
        "# et les valeurs les mots visuels\n",
        "# arguments: liste des histogrames des images et liste des noms des images\n",
        "# returns: dictionaire dont les clés sont les noms des images et les valeurs les mots visuels\n",
        "def build_dict_imageName_motVisuels(list_histograms, images_names):\n",
        "  dict_imageName_motVisuels = {} #dictionaire dont les clés sont les noms des images et les valeurs les mots visuels\n",
        "  for i in range(len(list_histograms)):#Boucle sur tous les histogrames des images\n",
        "    #Pour chaque histograme d'image on recupére un vecteur de True or False\n",
        "    #indiquant si oui le mot visuel exite ou pas dans l'image\n",
        "    all_positive_freq = list_histograms[i]>0\n",
        "    all_words_in_image = [] #List qui contiendra des mots visuel d'une image\n",
        "    for h in range(len(all_positive_freq)):\n",
        "      if all_positive_freq[h] == True:#Si True alors le mot visuel est dans l'image\n",
        "        all_words_in_image.append(h)\n",
        "    \n",
        "    dict_imageName_motVisuels[images_names[i]] = all_words_in_image\n",
        "\n",
        "  return dict_imageName_motVisuels\n",
        "\n",
        "\n",
        "\n",
        "# fonction de construction du fichier inversé \n",
        "# et les valeurs les mots visuels\n",
        "# arguments: dictionaire dont les clés sont les mots visuels et valeurs sont les noms des images\n",
        "# et liste des mots visuels\n",
        "# returns: fichier inversé qui est un dictionaire dont les clés sont les mots visuels et les valeurs sont les noms des images\n",
        "\n",
        "def make_invert_file(dict_imageName_motVisuels, words):\n",
        "  dict_motVisuel_imageNames = {word:set(image_name\n",
        "                        for image_name, wrds in dict_imageName_motVisuels.items() if word in wrds)\n",
        "            for word in words}            \n",
        "  return dict_motVisuel_imageNames\n",
        "\n",
        "\n",
        "\n",
        "# fonction de Recherche des images contenant les mots visuels données en paramètre dans le fichier inversé\n",
        "# arguments: dictionaire dont les clés sont les mots visuels  et les valeurs les noms des images\n",
        "# et liste des mots visuels(words)\n",
        "# returns: liste des images contenant les mots visuel passé en parametres\n",
        "def search_images_names_by_words(dict_motVisuel_imageNames, words):\n",
        "  list_images = list()\n",
        "  for word in words:\n",
        "    #Pour chaque mot visuel on récupère les images concernés\n",
        "    list_images = list_images+list(dict_motVisuel_imageNames.get(word)) #on ajoute à la liste\n",
        "  \n",
        "  #On retourne le set de la liste des images pour éviter les doublons\n",
        "  return  list(set(list_images))\n",
        "\n",
        "\n",
        "#Fonction de recherche des histogrames des images grâce au nom de ces dernères\n",
        "#parameters: liste des histogrammes de tous les images, liste des noms de tous les images, \n",
        "#liste des noms des images dont-on veut cherher l'histogramme chercher\n",
        "#return la liste des histogrammes des images correspondant\n",
        "def search_histograms_by_image_names(images_search_name, histograms_all_image, images_all_names):\n",
        "  histo_find = []\n",
        "  #récupérer les index des documents\n",
        "  for image_search_name in images_search_name:\n",
        "    #recupérer l'index de l'image\n",
        "    idx = images_all_names.index(image_search_name)\n",
        "    #recupération de l'histogram\n",
        "    histo = histograms_all_image[idx]\n",
        "    histo_find.append(histo)\n",
        "  \n",
        "  return histo_find\n",
        "\n",
        "\n",
        "\n",
        "#Récupération de tous les mots visuels\n",
        "allwords = list(set(clustering_model.labels_))\n",
        "\n",
        "#Construction du dictionaire dont les clés sont les noms des images et les valeurs les mots visuels\n",
        "dict_imageName_motVisuels = build_dict_imageName_motVisuels(images_histograms, all_images_names)\n",
        "\n",
        "#Construction du fichier inversé\n",
        "#C'est un dictionnaire dont les clés sont les mots visuels\n",
        "#Et les valeurs sont les noms des images\n",
        "dict_motVisuel_imageNames = make_invert_file(dict_imageName_motVisuels, allwords)\n",
        "\n",
        "\n",
        "\n",
        "#Elle est une modification de la fonction de recherche de la premiere partie\n",
        "#Return la liste des images similaire a l'image donné en parametre\n",
        "def rechercher_image_similaire(image_path, N=10, distance='minkowski'):\n",
        "  #Lecture et extraction des descripteurs de l'image\n",
        "  new_image = cv2.imread(image_path)\n",
        "  new_image = cv2.cvtColor(new_image,cv2.COLOR_BGR2GRAY)        \n",
        "  keypoint, descriptors = extract_features(new_image, extractor)\n",
        "  #Construction de l'histogram de la nouvelle image\n",
        "  img_hist = build_histogram(clustering_model, descriptors)\n",
        "\n",
        "  all_positive_freq = img_hist>0\n",
        "  all_words_in_image = [] #list qui contiendra des mots visuel de l'image\n",
        "  for h in range(len(all_positive_freq)):\n",
        "    if all_positive_freq[h] == True:#Si True alors le mot visuel est dans l'image\n",
        "      all_words_in_image.append(h)\n",
        "  \n",
        "  images_name_with_same_words = search_images_names_by_words(dict_motVisuel_imageNames, all_words_in_image)\n",
        "\n",
        "  histo_images_name_with_same_words = search_histograms_by_image_names(images_name_with_same_words, \n",
        "                                                                       images_histograms, all_images_names)\n",
        "\n",
        "  #Entrainement du model knn sur uniquement les histogrammes d'images ayant les mots visuels commun\n",
        "  neighbor = NearestNeighbors(n_neighbors = N, metric=distance)\n",
        "  neighbor.fit(histo_images_name_with_same_words)\n",
        "  #Recherche des plus proches histogram à la nouvelle image\n",
        "  dist, results = neighbor.kneighbors([img_hist])\n",
        "  #Transformation en un vecteur\n",
        "  results = np.squeeze(np.asarray(results))\n",
        "  #return les noms des image mapper aux références du resulat de knn\n",
        "  return list(map(lambda x: all_images_names[int(x)], results))\n",
        "\n",
        "\n"
      ],
      "execution_count": 0,
      "outputs": []
    },
    {
      "cell_type": "code",
      "metadata": {
        "id": "GSbrwSJBa96d",
        "colab_type": "code",
        "colab": {}
      },
      "source": [
        "folder_path = 'drive/My Drive/Colab Notebooks/Datasets/image_orig/'\n",
        "\n",
        "from sklearn.neighbors import NearestNeighbors\n",
        "\n",
        "\n",
        "#Calcul de la précision d'une image donné en parametre\n",
        "def precision_image_by_invert_search(image_path):\n",
        "  #recherche des images similaire\n",
        "  nearest_images = rechercher_image_similaire(image_path, N=10, distance='minkowski')\n",
        "  name_ref_image = image_path.split('/')[-1]\n",
        "  nb_img_same_concept = 0\n",
        "  #Pour chaque image dans les image similaire, on compare le concept de l'image de \n",
        "  #reférence au concept de l'image similaire s'ils sont identique, on augmente la precision\n",
        "  for one_image in nearest_images:\n",
        "    if(isInSameConcept(name_ref_image, one_image)):\n",
        "      nb_img_same_concept +=1\n",
        "\n",
        "  #On retourne la précion\n",
        "  return (nb_img_same_concept/len(nearest_images))\n",
        "\n",
        "\n",
        "def AnalyseResultats_invert_search():\n",
        "  precisions = []\n",
        "  for one_image in os.listdir(folder_path):\n",
        "    precision = precision_image_by_invert_search(folder_path+one_image)\n",
        "    precisions.append(precision)\n",
        "  \n",
        "  system_precision = np.mean(precisions)\n",
        "\n",
        "  return system_precision\n"
      ],
      "execution_count": 0,
      "outputs": []
    },
    {
      "cell_type": "code",
      "metadata": {
        "id": "bgW7kJhncMB0",
        "colab_type": "code",
        "outputId": "9d2804b1-291e-4e28-f48f-9829ef3d227d",
        "colab": {
          "base_uri": "https://localhost:8080/",
          "height": 55
        }
      },
      "source": [
        "sys_precision_inv_file = AnalyseResultats_invert_search()\n",
        "print('Résultats pour le fichier inversé')\n",
        "print('Analyse des résulats donne une précision systeme = %.5f ' % (sys_precision_inv_file))"
      ],
      "execution_count": 0,
      "outputs": [
        {
          "output_type": "stream",
          "text": [
            "Résultats pour le fichier inversé\n",
            "Analyse des résulats donne une précision systeme = 0.18860 \n"
          ],
          "name": "stdout"
        }
      ]
    },
    {
      "cell_type": "code",
      "metadata": {
        "id": "hkWXgQvnE-sS",
        "colab_type": "code",
        "colab": {}
      },
      "source": [
        ""
      ],
      "execution_count": 0,
      "outputs": []
    },
    {
      "cell_type": "code",
      "metadata": {
        "id": "E6VAvDpZE-pq",
        "colab_type": "code",
        "colab": {}
      },
      "source": [
        "#End"
      ],
      "execution_count": 0,
      "outputs": []
    },
    {
      "cell_type": "code",
      "metadata": {
        "id": "hSCeE_nEnlbk",
        "colab_type": "code",
        "colab": {}
      },
      "source": [
        ""
      ],
      "execution_count": 0,
      "outputs": []
    }
  ]
}